{
 "cells": [
  {
   "cell_type": "code",
   "execution_count": 1,
   "metadata": {},
   "outputs": [],
   "source": [
    "import csv\n",
    "import os"
   ]
  },
  {
   "cell_type": "code",
   "execution_count": 2,
   "metadata": {},
   "outputs": [],
   "source": [
    "election_data = os.path.join(\"election_data.csv\")"
   ]
  },
  {
   "cell_type": "code",
   "execution_count": 3,
   "metadata": {},
   "outputs": [],
   "source": [
    "candidate = []\n",
    "numberv = []\n",
    "percentv = []\n",
    "totalv = 0"
   ]
  },
  {
   "cell_type": "code",
   "execution_count": 4,
   "metadata": {},
   "outputs": [],
   "source": [
    "with open(election_data, newline = \"\") as csvfile:\n",
    "    csvreader = csv.reader(csvfile, delimiter = \",\")\n",
    "    csv_header = next(csvreader)\n",
    "\n",
    "    for row in csvreader:\n",
    "        totalv = totalv + 1 \n",
    "        if row[2] not in candidate:\n",
    "            candidate.append(row[2])\n",
    "            index = candidate.index(row[2])\n",
    "            numberv.append(1)\n",
    "        else:\n",
    "            index = candidate.index(row[2])\n",
    "            numberv[index] = numberv[index] + 1"
   ]
  },
  {
   "cell_type": "code",
   "execution_count": 5,
   "metadata": {},
   "outputs": [],
   "source": [
    "for votes in numberv:\n",
    "    percentage = (votes/totalv) * 100\n",
    "    percentage = round(percentage)\n",
    "    percentage = \"%.3f%%\" % percentage\n",
    "    percentv.append(percentage)"
   ]
  },
  {
   "cell_type": "code",
   "execution_count": 6,
   "metadata": {},
   "outputs": [],
   "source": [
    "    winner = max(numberv)\n",
    "    index = numberv.index(winner)\n",
    "    winning = candidate[index]\n"
   ]
  },
  {
   "cell_type": "code",
   "execution_count": 7,
   "metadata": {},
   "outputs": [
    {
     "name": "stdout",
     "output_type": "stream",
     "text": [
      "Election Results\n",
      "--------------------------\n",
      "Total Votes: 3521001\n",
      "--------------------------\n",
      "Khan: 63.000% (2218231)\n",
      "Correy: 20.000% (704200)\n",
      "Li: 14.000% (492940)\n",
      "O'Tooley: 3.000% (105630)\n",
      "--------------------------\n",
      "Winner: Khan\n",
      "--------------------------\n"
     ]
    }
   ],
   "source": [
    "print(\"Election Results\")\n",
    "print(\"--------------------------\")\n",
    "print(f\"Total Votes: {str(totalv)}\")\n",
    "print(\"--------------------------\")\n",
    "for i in range(len(candidate)):\n",
    "    print(f\"{candidate[i]}: {str(percentv[i])} ({str(numberv[i])})\")\n",
    "print(\"--------------------------\")\n",
    "print(f\"Winner: {winning}\")\n",
    "print(\"--------------------------\")\n"
   ]
  }
 ],
 "metadata": {
  "kernelspec": {
   "display_name": "Python 3",
   "language": "python",
   "name": "python3"
  },
  "language_info": {
   "codemirror_mode": {
    "name": "ipython",
    "version": 3
   },
   "file_extension": ".py",
   "mimetype": "text/x-python",
   "name": "python",
   "nbconvert_exporter": "python",
   "pygments_lexer": "ipython3",
   "version": "3.7.1"
  }
 },
 "nbformat": 4,
 "nbformat_minor": 2
}
