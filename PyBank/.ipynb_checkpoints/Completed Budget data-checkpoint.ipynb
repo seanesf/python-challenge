{
 "cells": [
  {
   "cell_type": "code",
   "execution_count": 1,
   "metadata": {},
   "outputs": [],
   "source": [
    "import csv\n",
    "import os"
   ]
  },
  {
   "cell_type": "code",
   "execution_count": 2,
   "metadata": {},
   "outputs": [],
   "source": [
    "budget_data = os.path.join(\"budget_data.csv\")"
   ]
  },
  {
   "cell_type": "code",
   "execution_count": 3,
   "metadata": {},
   "outputs": [],
   "source": [
    "totalm = 0\n",
    "totalr =0 \n",
    "value = 0\n",
    "change = 0 \n",
    "dates = []\n",
    "profits =[]"
   ]
  },
  {
   "cell_type": "code",
   "execution_count": 4,
   "metadata": {},
   "outputs": [],
   "source": [
    "with open(budget_data, newline = \"\") as csvfile:\n",
    "    csvreader= csv.reader(csvfile, delimiter =\",\")\n",
    "    csv_header = next (csvreader)\n",
    "    second_row = next (csvreader)\n",
    "    totalm = totalm + 1\n",
    "    totalr = int(second_row[1])\n",
    "    value = int(second_row[1])\n",
    "    for row in csvreader:\n",
    "        dates.append(row[0])\n",
    "        change = int(row[1])-value\n",
    "        profits.append(change)\n",
    "        value = int(row[1])\n",
    "        totalm = totalm + 1\n",
    "        totalr = totalr + int(row[1])\n",
    "        pl_increase = max(profits)\n",
    "        gross_index = profits.index(pl_increase)\n",
    "        gross_date = dates[gross_index ]\n",
    "        gross_decrease = min(profits)\n",
    "        loss_index = profits.index(gross_decrease)\n",
    "        loss_date = dates[loss_index ]\n",
    "        avg_change = sum(profits)/len(profits)"
   ]
  },
  {
   "cell_type": "code",
   "execution_count": 5,
   "metadata": {},
   "outputs": [
    {
     "name": "stdout",
     "output_type": "stream",
     "text": [
      "Financial Analysis\n",
      "---------------------\n",
      "Total Months: 86\n",
      "Total: $38382578\n",
      "Average Change: $-2315.12\n",
      "Greatest Increase in Profits: Feb-2012 ($1926159)\n",
      "Greatest Decrease in Profits: Sep-2013 ($-2196167\n"
     ]
    }
   ],
   "source": [
    "print(\"Financial Analysis\")\n",
    "print(\"---------------------\")\n",
    "print(f\"Total Months: {totalm}\")\n",
    "print(f\"Total: ${totalr}\")\n",
    "print(f\"Average Change: ${round(avg_change,2)}\")\n",
    "print(f\"Greatest Increase in Profits: {gross_date} (${pl_increase})\")\n",
    "print(f\"Greatest Decrease in Profits: {loss_date } (${gross_decrease}\")\n"
   ]
  },
  {
   "cell_type": "code",
   "execution_count": null,
   "metadata": {},
   "outputs": [],
   "source": []
  }
 ],
 "metadata": {
  "kernelspec": {
   "display_name": "Python 3",
   "language": "python",
   "name": "python3"
  },
  "language_info": {
   "codemirror_mode": {
    "name": "ipython",
    "version": 3
   },
   "file_extension": ".py",
   "mimetype": "text/x-python",
   "name": "python",
   "nbconvert_exporter": "python",
   "pygments_lexer": "ipython3",
   "version": "3.7.1"
  }
 },
 "nbformat": 4,
 "nbformat_minor": 2
}
